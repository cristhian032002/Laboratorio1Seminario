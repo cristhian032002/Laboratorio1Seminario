{
  "nbformat": 4,
  "nbformat_minor": 0,
  "metadata": {
    "colab": {
      "provenance": [],
      "authorship_tag": "ABX9TyMDD09hj+aDH3ZRfh1/9aXU",
      "include_colab_link": true
    },
    "kernelspec": {
      "name": "python3",
      "display_name": "Python 3"
    },
    "language_info": {
      "name": "python"
    }
  },
  "cells": [
    {
      "cell_type": "markdown",
      "metadata": {
        "id": "view-in-github",
        "colab_type": "text"
      },
      "source": [
        "<a href=\"https://colab.research.google.com/github/cristhian032002/Laboratorio1Seminario/blob/main/Laboratorio1.ipynb\" target=\"_parent\"><img src=\"https://colab.research.google.com/assets/colab-badge.svg\" alt=\"Open In Colab\"/></a>"
      ]
    },
    {
      "cell_type": "code",
      "execution_count": null,
      "metadata": {
        "id": "Cb_tcGliFs_j"
      },
      "outputs": [],
      "source": [
        "#Importar librerias\n",
        "import pandas as pd\n",
        "import numpy as np\n",
        "import matplotlib. pyplot as plt"
      ]
    },
    {
      "cell_type": "code",
      "source": [
        "#Crear un DataFrame\n",
        "data = {\n",
        "    'year': [2010, 2011, 2012, 2010, 2011, 2012, 2010, 2011, 2012],\n",
        "    'team': ['FCBarcelona', 'FCBarcelona', 'FCBarcelona', 'RMadrid', 'RMadrid', 'RMadrid', 'ValenciaCF', 'ValenciaCF', 'ValenciaCF'],\n",
        "    'wins': [30, 28, 32, 29, 32, 26, 21, 17, 19],\n",
        "    'draws': [6, 7, 4, 5, 4, 7, 8, 10, 8],\n",
        "    'losses': [2, 3, 2, 4, 2, 5, 9, 11, 11]\n",
        "}\n",
        "\n",
        "football = pd.DataFrame(data, columns=['year', 'team', 'wins', 'draws', 'losses'])\n",
        "football\n"
      ],
      "metadata": {
        "id": "QMydLsFEKups"
      },
      "execution_count": null,
      "outputs": []
    },
    {
      "cell_type": "code",
      "source": [
        "#Leer Datos desde un Archivo CSV\n",
        "edu = pd.read_csv('ruta/al/archivo/educ_figdp_1_Data.csv', na_values=':', usecols=[\"TIME\", \"GEO\", \"Value\"])\n",
        "edu\n"
      ],
      "metadata": {
        "id": "5WlPAa5WLlHb"
      },
      "execution_count": null,
      "outputs": []
    },
    {
      "cell_type": "code",
      "source": [
        "#Mostrar Primeras Filas del DataFrame:\n",
        "edu.head()\n"
      ],
      "metadata": {
        "id": "6t-sDKMjLoKF"
      },
      "execution_count": null,
      "outputs": []
    },
    {
      "cell_type": "code",
      "source": [
        "#Descripción Estadística del DataFrame\n",
        "edu.describe()\n"
      ],
      "metadata": {
        "id": "MUp59ckNLqc8"
      },
      "execution_count": null,
      "outputs": []
    },
    {
      "cell_type": "code",
      "source": [
        "#Filtrar Datos\n",
        "edu_filtered = edu[edu['Value'] > 6.5]\n",
        "edu_filtered.tail()\n"
      ],
      "metadata": {
        "id": "es5lSrvaLtCr"
      },
      "execution_count": null,
      "outputs": []
    },
    {
      "cell_type": "code",
      "source": [
        "#Filtrar Valores Faltantes:\n",
        "edu[edu[\"Value\"].isnull()].head()"
      ],
      "metadata": {
        "id": "imI83UqbNI2X"
      },
      "execution_count": null,
      "outputs": []
    },
    {
      "cell_type": "code",
      "source": [
        "#Agregar una Nueva Columna:\n",
        "edu['ValueNorm'] = edu['Value'] / edu['Value'].max()\n",
        "edu.head()"
      ],
      "metadata": {
        "id": "p5g9KG9CNUtz"
      },
      "execution_count": null,
      "outputs": []
    },
    {
      "cell_type": "code",
      "source": [
        "#Eliminar una Columna\n",
        "edu.drop('ValueNorm', axis=1, inplace=True)\n",
        "edu.head()"
      ],
      "metadata": {
        "id": "roD2u25VNiqb"
      },
      "execution_count": null,
      "outputs": []
    },
    {
      "cell_type": "code",
      "source": [
        "#Agregar una Nueva Fila\n",
        "edu = edu.append({\"TIME\": 2000, \"Value\": 5.00, \"GEO\": 'a'}, ignore_index=True)\n",
        "edu.tail()"
      ],
      "metadata": {
        "id": "Ueq6jdAQNtSW"
      },
      "execution_count": null,
      "outputs": []
    },
    {
      "cell_type": "code",
      "source": [
        "#Elimina una fila específica\n",
        "edu.drop(max(edu.index), axis=0, inplace=True)\n",
        "edu.tail()"
      ],
      "metadata": {
        "id": "JvUP8G5RN2RW"
      },
      "execution_count": null,
      "outputs": []
    },
    {
      "cell_type": "code",
      "source": [
        "#Agrupación de Datos\n",
        "group = edu[[\"GEO\", \"Value\"]].groupby('GEO').mean()\n",
        "group.head()\n"
      ],
      "metadata": {
        "id": "az3CnkgEL1sz"
      },
      "execution_count": null,
      "outputs": []
    },
    {
      "cell_type": "code",
      "source": [
        "#Visualización de Datos\n",
        "totalSum = edu.groupby('GEO')['Value'].sum()\n",
        "totalSum.plot(kind='bar', title=\"Total Values for Country\", alpha=0.4)\n",
        "plt.show()\n"
      ],
      "metadata": {
        "id": "q6MH6keQL3_6"
      },
      "execution_count": null,
      "outputs": []
    }
  ]
}